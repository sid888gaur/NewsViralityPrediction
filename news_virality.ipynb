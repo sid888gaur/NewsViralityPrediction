{
 "cells": [
  {
   "cell_type": "code",
   "execution_count": 25,
   "metadata": {},
   "outputs": [],
   "source": [
    "import pandas\n",
    "import numpy as np\n",
    "import requests\n",
    "from newspaper import Article\n",
    "from bs4 import BeautifulSoup"
   ]
  },
  {
   "cell_type": "code",
   "execution_count": 72,
   "metadata": {},
   "outputs": [
    {
     "data": {
      "text/plain": [
       "'https://www.thehindu.com/news/international/dolphins-reclaim-bosphorus-as-virus-silences-istanbul/article31440258.ece'"
      ]
     },
     "execution_count": 72,
     "metadata": {},
     "output_type": "execute_result"
    }
   ],
   "source": [
    "# request\n",
    "url = \"https://www.thehindu.com/news/international/\"\n",
    "req = requests.get(url)\n",
    "\n",
    "# soup creation\n",
    "soup = BeautifulSoup(req.content,'html.parser')\n",
    "\n",
    "# news identification\n",
    "storycard = soup.findAll('a',class_='Other-StoryCard-heading')\n",
    "storycard[2]['href']"
   ]
  },
  {
   "cell_type": "code",
   "execution_count": 73,
   "metadata": {},
   "outputs": [],
   "source": [
    "# empty lists for links, titles and news content\n",
    "list_links=[]\n",
    "list_titles=[]\n",
    "news_contents=[]\n",
    "\n",
    "for i in range(0,1):\n",
    "    # getting the link of article\n",
    "    link = storycard[i]['href']\n",
    "    list_links.append(link)\n",
    "    \n",
    "    # getting the title of article\n",
    "    title = storycard[i].get_text()\n",
    "    list_titles.append(title)\n",
    "    \n",
    "    # reading content\n",
    "    article = requests.get(link)\n",
    "    article_content = article.content\n",
    "    soup_article = BeautifulSoup(article_content,'html.parser')\n",
    "    body = soup_article.findAll('div',attrs = {'id':''})\n",
    "    x = body[0].findAll('p')\n",
    "    body\n",
    "    # unifying the paragraphs\n",
    "    list_paragraphs = []\n",
    "    final_article = {}\n",
    "    for p in np.arange(0,len(x)):\n",
    "        para = x[p].get_text()\n",
    "        list_paragraphs.append(para)\n",
    "        final_article = \" \".join(list_paragraphs)\n",
    "    \n",
    "    news_contents.append(final_article)"
   ]
  },
  {
   "cell_type": "code",
   "execution_count": null,
   "metadata": {},
   "outputs": [],
   "source": []
  },
  {
   "cell_type": "code",
   "execution_count": null,
   "metadata": {},
   "outputs": [],
   "source": []
  }
 ],
 "metadata": {
  "kernelspec": {
   "display_name": "Python 3",
   "language": "python",
   "name": "python3"
  },
  "language_info": {
   "codemirror_mode": {
    "name": "ipython",
    "version": 3
   },
   "file_extension": ".py",
   "mimetype": "text/x-python",
   "name": "python",
   "nbconvert_exporter": "python",
   "pygments_lexer": "ipython3",
   "version": "3.6.9"
  }
 },
 "nbformat": 4,
 "nbformat_minor": 4
}
